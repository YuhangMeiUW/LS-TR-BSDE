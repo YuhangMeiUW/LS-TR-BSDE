{
 "cells": [
  {
   "cell_type": "code",
   "execution_count": 1,
   "metadata": {},
   "outputs": [],
   "source": [
    "import numpy as np\n"
   ]
  },
  {
   "cell_type": "code",
   "execution_count": 45,
   "metadata": {},
   "outputs": [
    {
     "name": "stdout",
     "output_type": "stream",
     "text": [
      "[[1. 2. 1.]\n",
      " [1. 2. 1.]\n",
      " [1. 2. 1.]\n",
      " [1. 2. 1.]]\n"
     ]
    }
   ],
   "source": [
    "a = np.array([[1,2]])\n",
    "b = np.array([[9,2],[7,4],[5,6],[7,8]])\n",
    "aug_a = np.ones((4,3))\n",
    "aug_a[:,0:2] = a\n",
    "print(aug_a)"
   ]
  },
  {
   "cell_type": "code",
   "execution_count": 47,
   "metadata": {},
   "outputs": [
    {
     "name": "stdout",
     "output_type": "stream",
     "text": [
      "(1, 4)\n"
     ]
    }
   ],
   "source": [
    "y = np.array([[10]])\n",
    "a_1 = a[:,0]\n",
    "a_2 = a[:,1]\n",
    "phi_1 = a_1**2\n",
    "phi_2 = a_2**2\n",
    "phi_3 = a_1*a_2\n",
    "phi_4 = np.ones_like(phi_1)\n",
    "phi_mat = np.concatenate((phi_1[:,np.newaxis],phi_2[:,np.newaxis],phi_3[:,np.newaxis],phi_4[:,np.newaxis]),axis=1)\n",
    "print(phi_mat.shape)\n",
    "alpha = np.linalg.pinv(phi_mat.T @ phi_mat) @ phi_mat.T @ y\n",
    "G = np.zeros((2,2))\n",
    "G[0,0] = alpha[0,0]*2\n",
    "G[1,1] = alpha[1,0]*2\n",
    "G[0,1] = alpha[2,0]\n",
    "G[1,0] = alpha[2,0]"
   ]
  },
  {
   "cell_type": "code",
   "execution_count": 48,
   "metadata": {},
   "outputs": [
    {
     "name": "stdout",
     "output_type": "stream",
     "text": [
      "[[0.45454545]\n",
      " [1.81818182]\n",
      " [0.90909091]\n",
      " [0.45454545]]\n"
     ]
    }
   ],
   "source": [
    "print(alpha)"
   ]
  },
  {
   "cell_type": "code",
   "execution_count": 49,
   "metadata": {},
   "outputs": [
    {
     "data": {
      "text/plain": [
       "array([[0.90909091, 0.90909091],\n",
       "       [0.90909091, 3.63636364]])"
      ]
     },
     "execution_count": 49,
     "metadata": {},
     "output_type": "execute_result"
    }
   ],
   "source": [
    "G"
   ]
  },
  {
   "cell_type": "code",
   "execution_count": 50,
   "metadata": {},
   "outputs": [
    {
     "name": "stdout",
     "output_type": "stream",
     "text": [
      "[[10.]]\n"
     ]
    }
   ],
   "source": [
    "print(phi_mat@alpha)"
   ]
  },
  {
   "cell_type": "code",
   "execution_count": 53,
   "metadata": {},
   "outputs": [
    {
     "name": "stdout",
     "output_type": "stream",
     "text": [
      "[[0.76923077 1.53846154]\n",
      " [1.53846154 3.07692308]]\n",
      "[[1. 2. 2. 4. 1.]]\n"
     ]
    }
   ],
   "source": [
    "kron_a = (a[:,:,None]*a[:,None,:]).reshape(1, 4)\n",
    "aug_kron_a = np.ones((1,5))\n",
    "aug_kron_a[:,0:4] = kron_a\n",
    "# aug_kron_a[:,4] = 1/4\n",
    "G_b_vec= (np.linalg.pinv(aug_kron_a.T @ aug_kron_a) @ aug_kron_a.T @ y)\n",
    "G_ref = G_b_vec[0:4,0].reshape(2,2)*2\n",
    "print(G_ref)\n",
    "# print(kron_a)\n",
    "print(aug_kron_a)"
   ]
  },
  {
   "cell_type": "code",
   "execution_count": 54,
   "metadata": {},
   "outputs": [
    {
     "name": "stdout",
     "output_type": "stream",
     "text": [
      "[[10.]]\n"
     ]
    }
   ],
   "source": [
    "print(aug_kron_a@G_b_vec)"
   ]
  },
  {
   "cell_type": "code",
   "execution_count": 55,
   "metadata": {},
   "outputs": [
    {
     "data": {
      "text/plain": [
       "array([[0.38461538],\n",
       "       [0.76923077],\n",
       "       [0.76923077],\n",
       "       [1.53846154],\n",
       "       [0.38461538]])"
      ]
     },
     "execution_count": 55,
     "metadata": {},
     "output_type": "execute_result"
    }
   ],
   "source": [
    "G_b_vec"
   ]
  },
  {
   "cell_type": "code",
   "execution_count": 56,
   "metadata": {},
   "outputs": [
    {
     "data": {
      "text/plain": [
       "array([9.61538462])"
      ]
     },
     "execution_count": 56,
     "metadata": {},
     "output_type": "execute_result"
    }
   ],
   "source": [
    "0.5*(a @ G_ref * a).sum(axis=1)"
   ]
  },
  {
   "cell_type": "code",
   "execution_count": 57,
   "metadata": {},
   "outputs": [
    {
     "data": {
      "text/plain": [
       "array([9.54545455])"
      ]
     },
     "execution_count": 57,
     "metadata": {},
     "output_type": "execute_result"
    }
   ],
   "source": [
    "0.5*(a @ G * a).sum(axis=1)"
   ]
  },
  {
   "cell_type": "code",
   "execution_count": 58,
   "metadata": {},
   "outputs": [
    {
     "data": {
      "text/plain": [
       "array([[0.45454545]])"
      ]
     },
     "execution_count": 58,
     "metadata": {},
     "output_type": "execute_result"
    }
   ],
   "source": [
    "y - 0.5*(a @ G * a).sum(axis=1).reshape(-1,1)"
   ]
  },
  {
   "cell_type": "code",
   "execution_count": 59,
   "metadata": {},
   "outputs": [
    {
     "data": {
      "text/plain": [
       "array([[0.38461538]])"
      ]
     },
     "execution_count": 59,
     "metadata": {},
     "output_type": "execute_result"
    }
   ],
   "source": [
    "y - 0.5*(a @ G_ref * a).sum(axis=1).reshape(-1,1)"
   ]
  },
  {
   "cell_type": "code",
   "execution_count": null,
   "metadata": {},
   "outputs": [],
   "source": [
    "a = np.array([[1,2]])\n",
    "y = np.array([[10]])\n",
    "a_1 = a[:,0]\n",
    "a_2 = a[:,1]\n",
    "phi_1 = a_1**2\n",
    "phi_2 = a_2**2\n",
    "phi_3 = a_1*a_2\n",
    "phi_4 = np.ones_like(phi_1)\n",
    "phi_mat = np.concatenate((phi_1[:,np.newaxis],phi_2[:,np.newaxis],phi_3[:,np.newaxis],phi_4[:,np.newaxis]),axis=1)\n",
    "alpha = np.linalg.pinv(phi_mat.T @ phi_mat) @ phi_mat.T @ y\n",
    "G = np.zeros((2,2))\n",
    "G[0,0] = alpha[0,0]*2\n",
    "G[1,1] = alpha[1,0]*2\n",
    "G[0,1] = alpha[2,0]\n",
    "G[1,0] = alpha[2,0]\n",
    "kron_a = (a[:,:,None]*a[:,None,:]).reshape(1, 4)\n",
    "aug_kron_a = np.ones((1,5))\n",
    "aug_kron_a[:,0:4] = kron_a\n",
    "G_b_vec= (np.linalg.pinv(aug_kron_a.T @ aug_kron_a) @ aug_kron_a.T @ y)\n",
    "G_ref = G_b_vec[0:4,0].reshape(2,2)*2"
   ]
  },
  {
   "cell_type": "code",
   "execution_count": 8,
   "metadata": {},
   "outputs": [
    {
     "name": "stdout",
     "output_type": "stream",
     "text": [
      "G from basis functions:\n",
      "[[0.76923077 1.53846154]\n",
      " [1.53846154 3.07692308]]\n",
      "G_ref from least squares:\n",
      "[[0.76923077 1.53846154]\n",
      " [1.53846154 3.07692308]]\n",
      "Are G and G_ref equal?\n",
      "True\n"
     ]
    }
   ],
   "source": [
    "import numpy as np\n",
    "\n",
    "# Data\n",
    "a = np.array([[1, 2]])\n",
    "y = np.array([[10]])\n",
    "\n",
    "# Basis function approach\n",
    "a_1 = a[:, 0]\n",
    "a_2 = a[:, 1]\n",
    "phi_1 = a_1**2\n",
    "phi_2 = a_2**2\n",
    "phi_3 = a_1 * a_2\n",
    "phi_4 = a_1 * a_2\n",
    "phi_5 = np.ones_like(phi_1)\n",
    "phi_mat = np.concatenate((phi_1[:, np.newaxis], phi_2[:, np.newaxis], phi_3[:, np.newaxis], phi_4[:, np.newaxis], phi_5[:, np.newaxis]), axis=1)\n",
    "\n",
    "# Compute alpha\n",
    "alpha = np.linalg.pinv(phi_mat.T @ phi_mat) @ phi_mat.T @ y\n",
    "\n",
    "# Construct G\n",
    "G = np.zeros((2, 2))\n",
    "G[0, 0] = alpha[0, 0] *2\n",
    "G[1, 1] = alpha[1, 0] *2\n",
    "G[0, 1] = alpha[2, 0] *2\n",
    "G[1, 0] = alpha[3, 0] *2\n",
    "\n",
    "print(\"G from basis functions:\")\n",
    "print(G)\n",
    "\n",
    "# Least squares approach\n",
    "kron_a = (a[:, :, None] * a[:, None, :]).reshape(1, 4)\n",
    "aug_kron_a = np.ones((1, 5))\n",
    "aug_kron_a[:, 0:4] = kron_a\n",
    "\n",
    "# Compute G_b vector\n",
    "G_b_vec = np.linalg.pinv(aug_kron_a.T @ aug_kron_a) @ aug_kron_a.T @ y\n",
    "\n",
    "# Extract G from G_b_vec\n",
    "G_ref = G_b_vec[0:4, 0].reshape(2, 2) *2\n",
    "\n",
    "print(\"G_ref from least squares:\")\n",
    "print(G_ref)\n",
    "\n",
    "# Check if G is equal to G_ref\n",
    "print(\"Are G and G_ref equal?\")\n",
    "print(np.allclose(G, G_ref))"
   ]
  }
 ],
 "metadata": {
  "kernelspec": {
   "display_name": "stocon",
   "language": "python",
   "name": "python3"
  },
  "language_info": {
   "codemirror_mode": {
    "name": "ipython",
    "version": 3
   },
   "file_extension": ".py",
   "mimetype": "text/x-python",
   "name": "python",
   "nbconvert_exporter": "python",
   "pygments_lexer": "ipython3",
   "version": "3.11.8"
  }
 },
 "nbformat": 4,
 "nbformat_minor": 2
}
